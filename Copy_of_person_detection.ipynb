{
  "cells": [
    {
      "cell_type": "markdown",
      "metadata": {
        "id": "view-in-github",
        "colab_type": "text"
      },
      "source": [
        "<a href=\"https://colab.research.google.com/github/aohara812/ECGR4127-P2/blob/main/Copy_of_person_detection.ipynb\" target=\"_parent\"><img src=\"https://colab.research.google.com/assets/colab-badge.svg\" alt=\"Open In Colab\"/></a>"
      ]
    },
    {
      "cell_type": "markdown",
      "id": "ae35b60c-e8b9-4e85-8f2a-9b7881aed1b6",
      "metadata": {
        "id": "ae35b60c-e8b9-4e85-8f2a-9b7881aed1b6"
      },
      "source": [
        "This code is modified from the visual wake word / person detection MLPerf Tiny Benchmark:\n",
        "https://github.com/mlcommons/tiny/tree/master/benchmark/training/visual_wake_words"
      ]
    },
    {
      "cell_type": "code",
      "source": [
        "from google.colab import drive\n",
        "drive.mount('/content/drive')"
      ],
      "metadata": {
        "colab": {
          "base_uri": "https://localhost:8080/"
        },
        "id": "LswS9xjFMUe9",
        "outputId": "f91516d6-e636-46af-c33f-06c198b517c9"
      },
      "id": "LswS9xjFMUe9",
      "execution_count": 11,
      "outputs": [
        {
          "output_type": "stream",
          "name": "stdout",
          "text": [
            "Mounted at /content/drive\n"
          ]
        }
      ]
    },
    {
      "cell_type": "code",
      "source": [
        "# %cd /content/drive/MyDrive/Colab Notebooks/IOT/Project2\n"
      ],
      "metadata": {
        "id": "8hfK4sdaNKOo"
      },
      "id": "8hfK4sdaNKOo",
      "execution_count": 12,
      "outputs": []
    },
    {
      "cell_type": "code",
      "source": [
        ""
      ],
      "metadata": {
        "id": "1cb5hzzcOc9b"
      },
      "id": "1cb5hzzcOc9b",
      "execution_count": null,
      "outputs": []
    },
    {
      "cell_type": "code",
      "execution_count": 13,
      "id": "b0c4780e-abb6-4f4d-aa1e-72af3cbb82d8",
      "metadata": {
        "id": "b0c4780e-abb6-4f4d-aa1e-72af3cbb82d8"
      },
      "outputs": [],
      "source": [
        "import numpy as np\n",
        "\n",
        "import tensorflow as tf\n",
        "from tensorflow.keras.models import Model\n",
        "from tensorflow.keras.layers import Input, Dense, Activation, Flatten, BatchNormalization\n",
        "from tensorflow.keras.layers import Conv2D, DepthwiseConv2D, AveragePooling2D, MaxPooling2D\n",
        "from tensorflow.keras.regularizers import l2\n",
        "\n",
        "import os\n",
        "from absl import app\n",
        "\n",
        "assert tf.__version__.startswith('2')"
      ]
    },
    {
      "cell_type": "code",
      "execution_count": 14,
      "id": "738d4c8a-7907-4ee7-aae8-4a8ce5a138eb",
      "metadata": {
        "id": "738d4c8a-7907-4ee7-aae8-4a8ce5a138eb"
      },
      "outputs": [],
      "source": [
        "IMAGE_SIZE = 96\n",
        "BATCH_SIZE = 32\n",
        "\n",
        "\n",
        "batch_size = 50\n",
        "validation_split = 0.1\n",
        "\n",
        "epochs = 20,10,20\n",
        "lrates = .001, .0005, .00025\n",
        "\n",
        "color_mode = 'grayscale'\n",
        "if color_mode == 'grayscale':\n",
        "  n_color_chans = 1\n",
        "elif color_mode == 'rgb':\n",
        "  n_color_chans = 3\n",
        "else:\n",
        "  raise ValueError(\"color_mode should be either 'rgb' or 'grayscale'\")\n",
        "\n",
        "# BASE_DIR = os.path.join(os.getcwd(), 'vw_coco2014_96')\n",
        "BASE_DIR = '/content/drive/MyDrive/Mult_Letters' # Edit this \n"
      ]
    },
    {
      "cell_type": "markdown",
      "id": "39306076-d1a6-4670-bdb6-c99fc46ae913",
      "metadata": {
        "id": "39306076-d1a6-4670-bdb6-c99fc46ae913"
      },
      "source": [
        "Build the model"
      ]
    },
    {
      "cell_type": "code",
      "execution_count": 15,
      "id": "7cc56cf7-8c59-440b-a70e-a10bb315a0c7",
      "metadata": {
        "tags": [],
        "id": "7cc56cf7-8c59-440b-a70e-a10bb315a0c7"
      },
      "outputs": [],
      "source": [
        "### vww_model.py\n",
        "'''\n",
        "MobilnetV1 from Silican Labs github page:\n",
        "https://github.com/SiliconLabs/platform_ml_models/blob/master/eembc/Person_detection/mobilenet_v1_eembc.py\n",
        "'''\n",
        "\n",
        "\n",
        "#define model\n",
        "def mobilenet_v1():\n",
        "    # Mobilenet parameters\n",
        "    input_shape = [96,96,1] # resized to 96x96 per EEMBC requirement # was [96,96,3]\n",
        "    num_classes = 3 # person and non-person\n",
        "    num_filters = 8 # normally 32, but running with alpha=.25 per EEMBC requirement\n",
        "\n",
        "    inputs = Input(shape=input_shape)\n",
        "    x = inputs # Keras model uses ZeroPadding2D()\n",
        "\n",
        "    # 1st layer, pure conv\n",
        "    # Keras 2.2 model has padding='valid' and disables bias\n",
        "    x = Conv2D(num_filters,\n",
        "                  kernel_size=3,\n",
        "                  strides=2,\n",
        "                  padding='same',\n",
        "                  kernel_initializer='he_normal',\n",
        "                  kernel_regularizer=l2(1e-4))(x)\n",
        "    x = BatchNormalization()(x)\n",
        "    x = Activation('relu')(x) # Keras uses ReLU6 instead of pure ReLU\n",
        "\n",
        "    # 2nd layer, depthwise separable conv\n",
        "    # Filter size is always doubled before the pointwise conv\n",
        "    # Keras uses ZeroPadding2D() and padding='valid'\n",
        "    x = DepthwiseConv2D(kernel_size=3,\n",
        "                  strides=1,\n",
        "                  padding='same',\n",
        "                  kernel_initializer='he_normal',\n",
        "                  kernel_regularizer=l2(1e-4))(x)\n",
        "    x = BatchNormalization()(x)\n",
        "    x = Activation('relu')(x)\n",
        "\n",
        "    num_filters = 2*num_filters\n",
        "    x = Conv2D(num_filters,\n",
        "                  kernel_size=1,\n",
        "                  strides=1,\n",
        "                  padding='same',\n",
        "                  kernel_initializer='he_normal',\n",
        "                  kernel_regularizer=l2(1e-4))(x)\n",
        "    x = BatchNormalization()(x)\n",
        "    x = Activation('relu')(x)\n",
        "\n",
        "    # 3rd layer, depthwise separable conv\n",
        "    x = DepthwiseConv2D(kernel_size=3,\n",
        "                  strides=2,\n",
        "                  padding='same',\n",
        "                  kernel_initializer='he_normal',\n",
        "                  kernel_regularizer=l2(1e-4))(x)\n",
        "    x = BatchNormalization()(x)\n",
        "    x = Activation('relu')(x)\n",
        "\n",
        "    num_filters = 2*num_filters\n",
        "    x = Conv2D(num_filters,\n",
        "                  kernel_size=1,\n",
        "                  strides=1,\n",
        "                  padding='same',\n",
        "                  kernel_initializer='he_normal',\n",
        "                  kernel_regularizer=l2(1e-4))(x)\n",
        "    x = BatchNormalization()(x)\n",
        "    x = Activation('relu')(x)\n",
        "\n",
        "    # 4th layer, depthwise separable conv\n",
        "    x = DepthwiseConv2D(kernel_size=3,\n",
        "                  strides=1,\n",
        "                  padding='same',\n",
        "                  kernel_initializer='he_normal',\n",
        "                  kernel_regularizer=l2(1e-4))(x)\n",
        "    x = BatchNormalization()(x)\n",
        "    x = Activation('relu')(x)\n",
        "\n",
        "    x = Conv2D(num_filters,\n",
        "                  kernel_size=1,\n",
        "                  strides=1,\n",
        "                  padding='same',\n",
        "                  kernel_initializer='he_normal',\n",
        "                  kernel_regularizer=l2(1e-4))(x)\n",
        "    x = BatchNormalization()(x)\n",
        "    x = Activation('relu')(x)\n",
        "\n",
        "    # 5th layer, depthwise separable conv\n",
        "    x = DepthwiseConv2D(kernel_size=3,\n",
        "                  strides=2,\n",
        "                  padding='same',\n",
        "                  kernel_initializer='he_normal',\n",
        "                  kernel_regularizer=l2(1e-4))(x)\n",
        "    x = BatchNormalization()(x)\n",
        "    x = Activation('relu')(x)\n",
        "\n",
        "    num_filters = 2*num_filters\n",
        "    x = Conv2D(num_filters,\n",
        "                  kernel_size=1,\n",
        "                  strides=1,\n",
        "                  padding='same',\n",
        "                  kernel_initializer='he_normal',\n",
        "                  kernel_regularizer=l2(1e-4))(x)\n",
        "    x = BatchNormalization()(x)\n",
        "    x = Activation('relu')(x)\n",
        "\n",
        "    # 6th layer, depthwise separable conv\n",
        "    x = DepthwiseConv2D(kernel_size=3,\n",
        "                  strides=1,\n",
        "                  padding='same',\n",
        "                  kernel_initializer='he_normal',\n",
        "                  kernel_regularizer=l2(1e-4))(x)\n",
        "    x = BatchNormalization()(x)\n",
        "    x = Activation('relu')(x)\n",
        "\n",
        "    x = Conv2D(num_filters,\n",
        "                  kernel_size=1,\n",
        "                  strides=1,\n",
        "                  padding='same',\n",
        "                  kernel_initializer='he_normal',\n",
        "                  kernel_regularizer=l2(1e-4))(x)\n",
        "    x = BatchNormalization()(x)\n",
        "    x = Activation('relu')(x)\n",
        "\n",
        "    # 7th layer, depthwise separable conv\n",
        "    x = DepthwiseConv2D(kernel_size=3,\n",
        "                  strides=2,\n",
        "                  padding='same',\n",
        "                  kernel_initializer='he_normal',\n",
        "                  kernel_regularizer=l2(1e-4))(x)\n",
        "    x = BatchNormalization()(x)\n",
        "    x = Activation('relu')(x)\n",
        "\n",
        "    num_filters = 2*num_filters\n",
        "    x = Conv2D(num_filters,\n",
        "                  kernel_size=1,\n",
        "                  strides=1,\n",
        "                  padding='same',\n",
        "                  kernel_initializer='he_normal',\n",
        "                  kernel_regularizer=l2(1e-4))(x)\n",
        "    x = BatchNormalization()(x)\n",
        "    x = Activation('relu')(x)\n",
        "\n",
        "    # 8th-12th layers, identical depthwise separable convs\n",
        "    # 8th\n",
        "    x = DepthwiseConv2D(kernel_size=3,\n",
        "                  strides=1,\n",
        "                  padding='same',\n",
        "                  kernel_initializer='he_normal',\n",
        "                  kernel_regularizer=l2(1e-4))(x)\n",
        "    x = BatchNormalization()(x)\n",
        "    x = Activation('relu')(x)\n",
        "\n",
        "    x = Conv2D(num_filters,\n",
        "                  kernel_size=1,\n",
        "                  strides=1,\n",
        "                  padding='same',\n",
        "                  kernel_initializer='he_normal',\n",
        "                  kernel_regularizer=l2(1e-4))(x)\n",
        "    x = BatchNormalization()(x)\n",
        "    x = Activation('relu')(x)\n",
        "\n",
        "    # 9th\n",
        "    x = DepthwiseConv2D(kernel_size=3,\n",
        "                  strides=1,\n",
        "                  padding='same',\n",
        "                  kernel_initializer='he_normal',\n",
        "                  kernel_regularizer=l2(1e-4))(x)\n",
        "    x = BatchNormalization()(x)\n",
        "    x = Activation('relu')(x)\n",
        "\n",
        "    x = Conv2D(num_filters,\n",
        "                  kernel_size=1,\n",
        "                  strides=1,\n",
        "                  padding='same',\n",
        "                  kernel_initializer='he_normal',\n",
        "                  kernel_regularizer=l2(1e-4))(x)\n",
        "    x = BatchNormalization()(x)\n",
        "    x = Activation('relu')(x)\n",
        "\n",
        "    # 10th\n",
        "    x = DepthwiseConv2D(kernel_size=3,\n",
        "                  strides=1,\n",
        "                  padding='same',\n",
        "                  kernel_initializer='he_normal',\n",
        "                  kernel_regularizer=l2(1e-4))(x)\n",
        "    x = BatchNormalization()(x)\n",
        "    x = Activation('relu')(x)\n",
        "\n",
        "    x = Conv2D(num_filters,\n",
        "                  kernel_size=1,\n",
        "                  strides=1,\n",
        "                  padding='same',\n",
        "                  kernel_initializer='he_normal',\n",
        "                  kernel_regularizer=l2(1e-4))(x)\n",
        "    x = BatchNormalization()(x)\n",
        "    x = Activation('relu')(x)\n",
        "\n",
        "    # 11th\n",
        "    x = DepthwiseConv2D(kernel_size=3,\n",
        "                  strides=1,\n",
        "                  padding='same',\n",
        "                  kernel_initializer='he_normal',\n",
        "                  kernel_regularizer=l2(1e-4))(x)\n",
        "    x = BatchNormalization()(x)\n",
        "    x = Activation('relu')(x)\n",
        "\n",
        "    x = Conv2D(num_filters,\n",
        "                  kernel_size=1,\n",
        "                  strides=1,\n",
        "                  padding='same',\n",
        "                  kernel_initializer='he_normal',\n",
        "                  kernel_regularizer=l2(1e-4))(x)\n",
        "    x = BatchNormalization()(x)\n",
        "    x = Activation('relu')(x)\n",
        "\n",
        "    # 12th\n",
        "    x = DepthwiseConv2D(kernel_size=3,\n",
        "                  strides=1,\n",
        "                  padding='same',\n",
        "                  kernel_initializer='he_normal',\n",
        "                  kernel_regularizer=l2(1e-4))(x)\n",
        "    x = BatchNormalization()(x)\n",
        "    x = Activation('relu')(x)\n",
        "\n",
        "    x = Conv2D(num_filters,\n",
        "                  kernel_size=1,\n",
        "                  strides=1,\n",
        "                  padding='same',\n",
        "                  kernel_initializer='he_normal',\n",
        "                  kernel_regularizer=l2(1e-4))(x)\n",
        "    x = BatchNormalization()(x)\n",
        "    x = Activation('relu')(x)\n",
        "\n",
        "    # 13th layer, depthwise separable conv\n",
        "    x = DepthwiseConv2D(kernel_size=3,\n",
        "                  strides=2,\n",
        "                  padding='same',\n",
        "                  kernel_initializer='he_normal',\n",
        "                  kernel_regularizer=l2(1e-4))(x)\n",
        "    x = BatchNormalization()(x)\n",
        "    x = Activation('relu')(x)\n",
        "\n",
        "    num_filters = 2*num_filters\n",
        "    x = Conv2D(num_filters,\n",
        "                  kernel_size=1,\n",
        "                  strides=1,\n",
        "                  padding='same',\n",
        "                  kernel_initializer='he_normal',\n",
        "                  kernel_regularizer=l2(1e-4))(x)\n",
        "    x = BatchNormalization()(x)\n",
        "    x = Activation('relu')(x)\n",
        "\n",
        "    # 14th layer, depthwise separable conv\n",
        "    x = DepthwiseConv2D(kernel_size=3,\n",
        "                  strides=1,\n",
        "                  padding='same',\n",
        "                  kernel_initializer='he_normal',\n",
        "                  kernel_regularizer=l2(1e-4))(x)\n",
        "    x = BatchNormalization()(x)\n",
        "    x = Activation('relu')(x)\n",
        "\n",
        "    x = Conv2D(num_filters,\n",
        "                  kernel_size=1,\n",
        "                  strides=1,\n",
        "                  padding='same',\n",
        "                  kernel_initializer='he_normal',\n",
        "                  kernel_regularizer=l2(1e-4))(x)\n",
        "    x = BatchNormalization()(x)\n",
        "    x = Activation('relu')(x)\n",
        "\n",
        "    # Average pooling, max polling may be used also\n",
        "    # Keras employs GlobalAveragePooling2D \n",
        "    x = AveragePooling2D(pool_size=x.shape[1:3])(x)\n",
        "    #x = MaxPooling2D(pool_size=x.shape[1:3])(x)\n",
        "\n",
        "    # Keras inserts Dropout() and a pointwise Conv2D() here\n",
        "    # We are staying with the paper base structure\n",
        "\n",
        "    # Flatten, FC layer and classify\n",
        "    x = Flatten()(x)\n",
        "    outputs = Dense(num_classes, activation='softmax')(x)\n",
        "\n",
        "    # Instantiate model.\n",
        "    model = Model(inputs=inputs, outputs=outputs)\n",
        "    return model\n"
      ]
    },
    {
      "cell_type": "code",
      "execution_count": 17,
      "id": "728e5407-1e65-4f51-adfb-27c14a430e64",
      "metadata": {
        "id": "728e5407-1e65-4f51-adfb-27c14a430e64",
        "colab": {
          "base_uri": "https://localhost:8080/"
        },
        "outputId": "07014ec6-790e-4510-f9f9-f8b0f9d7e42d"
      },
      "outputs": [
        {
          "output_type": "stream",
          "name": "stdout",
          "text": [
            "Found 13500 images belonging to 3 classes.\n",
            "Found 1500 images belonging to 3 classes.\n",
            "{'F': 0, 'K': 1, 'OtherLetters': 2}\n",
            "Epoch 1/20\n",
            "422/422 [==============================] - 8140s 19s/step - loss: 1.1360 - accuracy: 0.6393 - val_loss: 1.5929 - val_accuracy: 0.6000\n",
            "Epoch 2/20\n",
            "422/422 [==============================] - 153s 363ms/step - loss: 0.8802 - accuracy: 0.7519 - val_loss: 1.0286 - val_accuracy: 0.7107\n",
            "Epoch 3/20\n",
            "422/422 [==============================] - 153s 362ms/step - loss: 0.6410 - accuracy: 0.8541 - val_loss: 0.7022 - val_accuracy: 0.8373\n",
            "Epoch 4/20\n",
            "422/422 [==============================] - 153s 362ms/step - loss: 0.4974 - accuracy: 0.9087 - val_loss: 0.6185 - val_accuracy: 0.8633\n",
            "Epoch 5/20\n",
            "422/422 [==============================] - 153s 363ms/step - loss: 0.4152 - accuracy: 0.9373 - val_loss: 0.4617 - val_accuracy: 0.9093\n",
            "Epoch 6/20\n",
            "422/422 [==============================] - 154s 365ms/step - loss: 0.3637 - accuracy: 0.9507 - val_loss: 0.4767 - val_accuracy: 0.9293\n",
            "Epoch 7/20\n",
            "422/422 [==============================] - 151s 358ms/step - loss: 0.3311 - accuracy: 0.9588 - val_loss: 0.3713 - val_accuracy: 0.9520\n",
            "Epoch 8/20\n",
            "422/422 [==============================] - 153s 363ms/step - loss: 0.3104 - accuracy: 0.9632 - val_loss: 0.5068 - val_accuracy: 0.8967\n",
            "Epoch 9/20\n",
            "422/422 [==============================] - 153s 362ms/step - loss: 0.2883 - accuracy: 0.9666 - val_loss: 0.5795 - val_accuracy: 0.8633\n",
            "Epoch 10/20\n",
            "422/422 [==============================] - 155s 367ms/step - loss: 0.2682 - accuracy: 0.9732 - val_loss: 0.3331 - val_accuracy: 0.9587\n",
            "Epoch 11/20\n",
            "422/422 [==============================] - 153s 361ms/step - loss: 0.2487 - accuracy: 0.9776 - val_loss: 0.3339 - val_accuracy: 0.9673\n",
            "Epoch 12/20\n",
            "422/422 [==============================] - 152s 360ms/step - loss: 0.2322 - accuracy: 0.9793 - val_loss: 0.4374 - val_accuracy: 0.9087\n",
            "Epoch 13/20\n",
            "422/422 [==============================] - 156s 368ms/step - loss: 0.2121 - accuracy: 0.9849 - val_loss: 0.4131 - val_accuracy: 0.9560\n",
            "Epoch 14/20\n",
            "422/422 [==============================] - 155s 367ms/step - loss: 0.2022 - accuracy: 0.9836 - val_loss: 0.3114 - val_accuracy: 0.9573\n",
            "Epoch 15/20\n",
            "422/422 [==============================] - 154s 365ms/step - loss: 0.1933 - accuracy: 0.9850 - val_loss: 0.3539 - val_accuracy: 0.9380\n",
            "Epoch 16/20\n",
            "422/422 [==============================] - 152s 360ms/step - loss: 0.1817 - accuracy: 0.9867 - val_loss: 0.2540 - val_accuracy: 0.9707\n",
            "Epoch 17/20\n",
            "422/422 [==============================] - 154s 365ms/step - loss: 0.1740 - accuracy: 0.9883 - val_loss: 0.3320 - val_accuracy: 0.9493\n",
            "Epoch 18/20\n",
            "422/422 [==============================] - 154s 365ms/step - loss: 0.1611 - accuracy: 0.9902 - val_loss: 0.3518 - val_accuracy: 0.9547\n",
            "Epoch 19/20\n",
            "422/422 [==============================] - 154s 365ms/step - loss: 0.1563 - accuracy: 0.9899 - val_loss: 0.2969 - val_accuracy: 0.9440\n",
            "Epoch 20/20\n",
            "422/422 [==============================] - 154s 364ms/step - loss: 0.1428 - accuracy: 0.9921 - val_loss: 0.3266 - val_accuracy: 0.9520\n",
            "Epoch 1/10\n",
            "422/422 [==============================] - 156s 361ms/step - loss: 0.1282 - accuracy: 0.9944 - val_loss: 0.2778 - val_accuracy: 0.9480\n",
            "Epoch 2/10\n",
            "422/422 [==============================] - 154s 366ms/step - loss: 0.1176 - accuracy: 0.9962 - val_loss: 0.2772 - val_accuracy: 0.9600\n",
            "Epoch 3/10\n",
            "422/422 [==============================] - 158s 374ms/step - loss: 0.1151 - accuracy: 0.9954 - val_loss: 0.3583 - val_accuracy: 0.9260\n",
            "Epoch 4/10\n",
            "422/422 [==============================] - 155s 366ms/step - loss: 0.1102 - accuracy: 0.9957 - val_loss: 0.2123 - val_accuracy: 0.9607\n",
            "Epoch 5/10\n",
            "422/422 [==============================] - 153s 362ms/step - loss: 0.1066 - accuracy: 0.9960 - val_loss: 0.2676 - val_accuracy: 0.9507\n",
            "Epoch 6/10\n",
            "422/422 [==============================] - 153s 363ms/step - loss: 0.1022 - accuracy: 0.9961 - val_loss: 0.2509 - val_accuracy: 0.9653\n",
            "Epoch 7/10\n",
            "422/422 [==============================] - 154s 365ms/step - loss: 0.0967 - accuracy: 0.9972 - val_loss: 0.2065 - val_accuracy: 0.9767\n",
            "Epoch 8/10\n",
            "422/422 [==============================] - 151s 358ms/step - loss: 0.0982 - accuracy: 0.9958 - val_loss: 0.3786 - val_accuracy: 0.9573\n",
            "Epoch 9/10\n",
            "422/422 [==============================] - 154s 364ms/step - loss: 0.0933 - accuracy: 0.9964 - val_loss: 0.2648 - val_accuracy: 0.9660\n",
            "Epoch 10/10\n",
            "422/422 [==============================] - 152s 360ms/step - loss: 0.0900 - accuracy: 0.9974 - val_loss: 0.2697 - val_accuracy: 0.9567\n",
            "Epoch 1/20\n",
            "422/422 [==============================] - 162s 372ms/step - loss: 0.0824 - accuracy: 0.9982 - val_loss: 0.3028 - val_accuracy: 0.9500\n",
            "Epoch 2/20\n",
            "422/422 [==============================] - 154s 364ms/step - loss: 0.0804 - accuracy: 0.9983 - val_loss: 0.2899 - val_accuracy: 0.9680\n",
            "Epoch 3/20\n",
            "422/422 [==============================] - 154s 364ms/step - loss: 0.0744 - accuracy: 0.9993 - val_loss: 0.2094 - val_accuracy: 0.9680\n",
            "Epoch 4/20\n",
            "422/422 [==============================] - 153s 362ms/step - loss: 0.0761 - accuracy: 0.9982 - val_loss: 0.3479 - val_accuracy: 0.9487\n",
            "Epoch 5/20\n",
            "422/422 [==============================] - 154s 364ms/step - loss: 0.0726 - accuracy: 0.9989 - val_loss: 0.3102 - val_accuracy: 0.9487\n",
            "Epoch 6/20\n",
            "422/422 [==============================] - 155s 367ms/step - loss: 0.0712 - accuracy: 0.9987 - val_loss: 0.4107 - val_accuracy: 0.9280\n",
            "Epoch 7/20\n",
            "422/422 [==============================] - 153s 363ms/step - loss: 0.0699 - accuracy: 0.9987 - val_loss: 0.3441 - val_accuracy: 0.9500\n",
            "Epoch 8/20\n",
            "422/422 [==============================] - 152s 360ms/step - loss: 0.0681 - accuracy: 0.9990 - val_loss: 0.3439 - val_accuracy: 0.9460\n",
            "Epoch 9/20\n",
            "422/422 [==============================] - 153s 363ms/step - loss: 0.0654 - accuracy: 0.9991 - val_loss: 0.2714 - val_accuracy: 0.9447\n",
            "Epoch 10/20\n",
            "422/422 [==============================] - 152s 360ms/step - loss: 0.0643 - accuracy: 0.9993 - val_loss: 0.1927 - val_accuracy: 0.9727\n",
            "Epoch 11/20\n",
            "422/422 [==============================] - 155s 367ms/step - loss: 0.0665 - accuracy: 0.9978 - val_loss: 0.2510 - val_accuracy: 0.9673\n",
            "Epoch 12/20\n",
            "422/422 [==============================] - 153s 363ms/step - loss: 0.0636 - accuracy: 0.9988 - val_loss: 0.2830 - val_accuracy: 0.9520\n",
            "Epoch 13/20\n",
            "422/422 [==============================] - 153s 361ms/step - loss: 0.0638 - accuracy: 0.9984 - val_loss: 0.2046 - val_accuracy: 0.9520\n",
            "Epoch 14/20\n",
            "422/422 [==============================] - 153s 362ms/step - loss: 0.0608 - accuracy: 0.9993 - val_loss: 0.1968 - val_accuracy: 0.9700\n",
            "Epoch 15/20\n",
            "422/422 [==============================] - 152s 359ms/step - loss: 0.0611 - accuracy: 0.9988 - val_loss: 0.2085 - val_accuracy: 0.9680\n",
            "Epoch 16/20\n",
            "422/422 [==============================] - 152s 361ms/step - loss: 0.0581 - accuracy: 0.9991 - val_loss: 0.2533 - val_accuracy: 0.9467\n",
            "Epoch 17/20\n",
            "422/422 [==============================] - 153s 363ms/step - loss: 0.0586 - accuracy: 0.9986 - val_loss: 0.2047 - val_accuracy: 0.9660\n",
            "Epoch 18/20\n",
            "422/422 [==============================] - 153s 361ms/step - loss: 0.0574 - accuracy: 0.9989 - val_loss: 0.2630 - val_accuracy: 0.9520\n",
            "Epoch 19/20\n",
            "422/422 [==============================] - 152s 361ms/step - loss: 0.0577 - accuracy: 0.9986 - val_loss: 0.2307 - val_accuracy: 0.9620\n",
            "Epoch 20/20\n",
            "422/422 [==============================] - 154s 364ms/step - loss: 0.0574 - accuracy: 0.9979 - val_loss: 0.4256 - val_accuracy: 0.9220\n"
          ]
        }
      ],
      "source": [
        "### train_vww.py\n",
        "\"\"\"Training for the visual wakewords person detection model.\n",
        "\n",
        "The visual wakewords person detection model is a core model for the TinyMLPerf\n",
        "benchmark suite. This script provides source for how the reference model was\n",
        "created and trained, and can be used as a starting point for open submissions\n",
        "using re-training.\n",
        "\"\"\"\n",
        "\n",
        "model = mobilenet_v1()\n",
        "\n",
        " # model.summary()\n",
        "\n",
        "datagen = tf.keras.preprocessing.image.ImageDataGenerator(\n",
        "    rotation_range=10,\n",
        "    width_shift_range=0.05,\n",
        "    height_shift_range=0.05,\n",
        "    zoom_range=.1,\n",
        "    horizontal_flip=True,\n",
        "    validation_split=validation_split,\n",
        "    rescale=1. / 255)\n",
        "\n",
        "\n",
        "\n",
        "\n",
        "\n",
        "train_generator = datagen.flow_from_directory(\n",
        "    BASE_DIR,\n",
        "    target_size=(IMAGE_SIZE, IMAGE_SIZE),\n",
        "    batch_size=BATCH_SIZE,\n",
        "    subset='training',\n",
        "    color_mode='grayscale') # was 'rgb'\n",
        "\n",
        "\n",
        "\n",
        "    \n",
        "val_generator = datagen.flow_from_directory(\n",
        "    BASE_DIR,\n",
        "    target_size=(IMAGE_SIZE, IMAGE_SIZE),\n",
        "    batch_size=BATCH_SIZE,\n",
        "    subset='validation',\n",
        "    color_mode='grayscale') # was 'rgb'\n",
        "print(train_generator.class_indices)\n",
        "\n",
        "\n",
        "def train_epochs(model, train_generator, val_generator, epoch_count,\n",
        "                 learning_rate, steps_per_epoch=None):\n",
        "  model.compile(\n",
        "      optimizer=tf.keras.optimizers.Adam(learning_rate),\n",
        "      loss='categorical_crossentropy',\n",
        "      metrics=['accuracy'])\n",
        "  if steps_per_epoch is None:\n",
        "    steps_per_epoch = len(train_generator)\n",
        "  history_fine = model.fit(\n",
        "      train_generator,\n",
        "      steps_per_epoch=steps_per_epoch,\n",
        "      epochs=epoch_count,\n",
        "      validation_data=val_generator,\n",
        "      validation_steps=len(val_generator),\n",
        "      batch_size=BATCH_SIZE)\n",
        "  return model\n",
        "\n",
        "model = train_epochs(model, train_generator, val_generator, epochs[0], lrates[0])# steps_per_epoch=10)\n",
        "model = train_epochs(model, train_generator, val_generator, epochs[1], lrates[1])\n",
        "model = train_epochs(model, train_generator, val_generator, epochs[2], lrates[2])\n",
        "\n",
        "model.save('vww_96_tmp_res.h5')\n"
      ]
    },
    {
      "cell_type": "code",
      "execution_count": 18,
      "id": "fce0c338-70f9-4ec2-b757-00c536fbc415",
      "metadata": {
        "id": "fce0c338-70f9-4ec2-b757-00c536fbc415",
        "colab": {
          "base_uri": "https://localhost:8080/"
        },
        "outputId": "53f4ffa1-82fc-4022-96f4-3af3a6b953da"
      },
      "outputs": [
        {
          "output_type": "stream",
          "name": "stdout",
          "text": [
            "47/47 - 9s - loss: 0.4167 - accuracy: 0.9267 - 9s/epoch - 193ms/step\n"
          ]
        }
      ],
      "source": [
        "val_loss, val_acc = model.evaluate(val_generator, verbose=2)"
      ]
    },
    {
      "cell_type": "code",
      "execution_count": 19,
      "id": "3a5defee-77cd-442f-88a3-667ef1cab28e",
      "metadata": {
        "id": "3a5defee-77cd-442f-88a3-667ef1cab28e",
        "colab": {
          "base_uri": "https://localhost:8080/"
        },
        "outputId": "441a44d6-804d-43c5-ec6d-1c44600b6d1c"
      },
      "outputs": [
        {
          "output_type": "stream",
          "name": "stdout",
          "text": [
            "Model: \"model\"\n",
            "_________________________________________________________________\n",
            " Layer (type)                Output Shape              Param #   \n",
            "=================================================================\n",
            " input_1 (InputLayer)        [(None, 96, 96, 1)]       0         \n",
            "                                                                 \n",
            " conv2d (Conv2D)             (None, 48, 48, 8)         80        \n",
            "                                                                 \n",
            " batch_normalization (BatchN  (None, 48, 48, 8)        32        \n",
            " ormalization)                                                   \n",
            "                                                                 \n",
            " activation (Activation)     (None, 48, 48, 8)         0         \n",
            "                                                                 \n",
            " depthwise_conv2d (Depthwise  (None, 48, 48, 8)        80        \n",
            " Conv2D)                                                         \n",
            "                                                                 \n",
            " batch_normalization_1 (Batc  (None, 48, 48, 8)        32        \n",
            " hNormalization)                                                 \n",
            "                                                                 \n",
            " activation_1 (Activation)   (None, 48, 48, 8)         0         \n",
            "                                                                 \n",
            " conv2d_1 (Conv2D)           (None, 48, 48, 16)        144       \n",
            "                                                                 \n",
            " batch_normalization_2 (Batc  (None, 48, 48, 16)       64        \n",
            " hNormalization)                                                 \n",
            "                                                                 \n",
            " activation_2 (Activation)   (None, 48, 48, 16)        0         \n",
            "                                                                 \n",
            " depthwise_conv2d_1 (Depthwi  (None, 24, 24, 16)       160       \n",
            " seConv2D)                                                       \n",
            "                                                                 \n",
            " batch_normalization_3 (Batc  (None, 24, 24, 16)       64        \n",
            " hNormalization)                                                 \n",
            "                                                                 \n",
            " activation_3 (Activation)   (None, 24, 24, 16)        0         \n",
            "                                                                 \n",
            " conv2d_2 (Conv2D)           (None, 24, 24, 32)        544       \n",
            "                                                                 \n",
            " batch_normalization_4 (Batc  (None, 24, 24, 32)       128       \n",
            " hNormalization)                                                 \n",
            "                                                                 \n",
            " activation_4 (Activation)   (None, 24, 24, 32)        0         \n",
            "                                                                 \n",
            " depthwise_conv2d_2 (Depthwi  (None, 24, 24, 32)       320       \n",
            " seConv2D)                                                       \n",
            "                                                                 \n",
            " batch_normalization_5 (Batc  (None, 24, 24, 32)       128       \n",
            " hNormalization)                                                 \n",
            "                                                                 \n",
            " activation_5 (Activation)   (None, 24, 24, 32)        0         \n",
            "                                                                 \n",
            " conv2d_3 (Conv2D)           (None, 24, 24, 32)        1056      \n",
            "                                                                 \n",
            " batch_normalization_6 (Batc  (None, 24, 24, 32)       128       \n",
            " hNormalization)                                                 \n",
            "                                                                 \n",
            " activation_6 (Activation)   (None, 24, 24, 32)        0         \n",
            "                                                                 \n",
            " depthwise_conv2d_3 (Depthwi  (None, 12, 12, 32)       320       \n",
            " seConv2D)                                                       \n",
            "                                                                 \n",
            " batch_normalization_7 (Batc  (None, 12, 12, 32)       128       \n",
            " hNormalization)                                                 \n",
            "                                                                 \n",
            " activation_7 (Activation)   (None, 12, 12, 32)        0         \n",
            "                                                                 \n",
            " conv2d_4 (Conv2D)           (None, 12, 12, 64)        2112      \n",
            "                                                                 \n",
            " batch_normalization_8 (Batc  (None, 12, 12, 64)       256       \n",
            " hNormalization)                                                 \n",
            "                                                                 \n",
            " activation_8 (Activation)   (None, 12, 12, 64)        0         \n",
            "                                                                 \n",
            " depthwise_conv2d_4 (Depthwi  (None, 12, 12, 64)       640       \n",
            " seConv2D)                                                       \n",
            "                                                                 \n",
            " batch_normalization_9 (Batc  (None, 12, 12, 64)       256       \n",
            " hNormalization)                                                 \n",
            "                                                                 \n",
            " activation_9 (Activation)   (None, 12, 12, 64)        0         \n",
            "                                                                 \n",
            " conv2d_5 (Conv2D)           (None, 12, 12, 64)        4160      \n",
            "                                                                 \n",
            " batch_normalization_10 (Bat  (None, 12, 12, 64)       256       \n",
            " chNormalization)                                                \n",
            "                                                                 \n",
            " activation_10 (Activation)  (None, 12, 12, 64)        0         \n",
            "                                                                 \n",
            " depthwise_conv2d_5 (Depthwi  (None, 6, 6, 64)         640       \n",
            " seConv2D)                                                       \n",
            "                                                                 \n",
            " batch_normalization_11 (Bat  (None, 6, 6, 64)         256       \n",
            " chNormalization)                                                \n",
            "                                                                 \n",
            " activation_11 (Activation)  (None, 6, 6, 64)          0         \n",
            "                                                                 \n",
            " conv2d_6 (Conv2D)           (None, 6, 6, 128)         8320      \n",
            "                                                                 \n",
            " batch_normalization_12 (Bat  (None, 6, 6, 128)        512       \n",
            " chNormalization)                                                \n",
            "                                                                 \n",
            " activation_12 (Activation)  (None, 6, 6, 128)         0         \n",
            "                                                                 \n",
            " depthwise_conv2d_6 (Depthwi  (None, 6, 6, 128)        1280      \n",
            " seConv2D)                                                       \n",
            "                                                                 \n",
            " batch_normalization_13 (Bat  (None, 6, 6, 128)        512       \n",
            " chNormalization)                                                \n",
            "                                                                 \n",
            " activation_13 (Activation)  (None, 6, 6, 128)         0         \n",
            "                                                                 \n",
            " conv2d_7 (Conv2D)           (None, 6, 6, 128)         16512     \n",
            "                                                                 \n",
            " batch_normalization_14 (Bat  (None, 6, 6, 128)        512       \n",
            " chNormalization)                                                \n",
            "                                                                 \n",
            " activation_14 (Activation)  (None, 6, 6, 128)         0         \n",
            "                                                                 \n",
            " depthwise_conv2d_7 (Depthwi  (None, 6, 6, 128)        1280      \n",
            " seConv2D)                                                       \n",
            "                                                                 \n",
            " batch_normalization_15 (Bat  (None, 6, 6, 128)        512       \n",
            " chNormalization)                                                \n",
            "                                                                 \n",
            " activation_15 (Activation)  (None, 6, 6, 128)         0         \n",
            "                                                                 \n",
            " conv2d_8 (Conv2D)           (None, 6, 6, 128)         16512     \n",
            "                                                                 \n",
            " batch_normalization_16 (Bat  (None, 6, 6, 128)        512       \n",
            " chNormalization)                                                \n",
            "                                                                 \n",
            " activation_16 (Activation)  (None, 6, 6, 128)         0         \n",
            "                                                                 \n",
            " depthwise_conv2d_8 (Depthwi  (None, 6, 6, 128)        1280      \n",
            " seConv2D)                                                       \n",
            "                                                                 \n",
            " batch_normalization_17 (Bat  (None, 6, 6, 128)        512       \n",
            " chNormalization)                                                \n",
            "                                                                 \n",
            " activation_17 (Activation)  (None, 6, 6, 128)         0         \n",
            "                                                                 \n",
            " conv2d_9 (Conv2D)           (None, 6, 6, 128)         16512     \n",
            "                                                                 \n",
            " batch_normalization_18 (Bat  (None, 6, 6, 128)        512       \n",
            " chNormalization)                                                \n",
            "                                                                 \n",
            " activation_18 (Activation)  (None, 6, 6, 128)         0         \n",
            "                                                                 \n",
            " depthwise_conv2d_9 (Depthwi  (None, 6, 6, 128)        1280      \n",
            " seConv2D)                                                       \n",
            "                                                                 \n",
            " batch_normalization_19 (Bat  (None, 6, 6, 128)        512       \n",
            " chNormalization)                                                \n",
            "                                                                 \n",
            " activation_19 (Activation)  (None, 6, 6, 128)         0         \n",
            "                                                                 \n",
            " conv2d_10 (Conv2D)          (None, 6, 6, 128)         16512     \n",
            "                                                                 \n",
            " batch_normalization_20 (Bat  (None, 6, 6, 128)        512       \n",
            " chNormalization)                                                \n",
            "                                                                 \n",
            " activation_20 (Activation)  (None, 6, 6, 128)         0         \n",
            "                                                                 \n",
            " depthwise_conv2d_10 (Depthw  (None, 6, 6, 128)        1280      \n",
            " iseConv2D)                                                      \n",
            "                                                                 \n",
            " batch_normalization_21 (Bat  (None, 6, 6, 128)        512       \n",
            " chNormalization)                                                \n",
            "                                                                 \n",
            " activation_21 (Activation)  (None, 6, 6, 128)         0         \n",
            "                                                                 \n",
            " conv2d_11 (Conv2D)          (None, 6, 6, 128)         16512     \n",
            "                                                                 \n",
            " batch_normalization_22 (Bat  (None, 6, 6, 128)        512       \n",
            " chNormalization)                                                \n",
            "                                                                 \n",
            " activation_22 (Activation)  (None, 6, 6, 128)         0         \n",
            "                                                                 \n",
            " depthwise_conv2d_11 (Depthw  (None, 3, 3, 128)        1280      \n",
            " iseConv2D)                                                      \n",
            "                                                                 \n",
            " batch_normalization_23 (Bat  (None, 3, 3, 128)        512       \n",
            " chNormalization)                                                \n",
            "                                                                 \n",
            " activation_23 (Activation)  (None, 3, 3, 128)         0         \n",
            "                                                                 \n",
            " conv2d_12 (Conv2D)          (None, 3, 3, 256)         33024     \n",
            "                                                                 \n",
            " batch_normalization_24 (Bat  (None, 3, 3, 256)        1024      \n",
            " chNormalization)                                                \n",
            "                                                                 \n",
            " activation_24 (Activation)  (None, 3, 3, 256)         0         \n",
            "                                                                 \n",
            " depthwise_conv2d_12 (Depthw  (None, 3, 3, 256)        2560      \n",
            " iseConv2D)                                                      \n",
            "                                                                 \n",
            " batch_normalization_25 (Bat  (None, 3, 3, 256)        1024      \n",
            " chNormalization)                                                \n",
            "                                                                 \n",
            " activation_25 (Activation)  (None, 3, 3, 256)         0         \n",
            "                                                                 \n",
            " conv2d_13 (Conv2D)          (None, 3, 3, 256)         65792     \n",
            "                                                                 \n",
            " batch_normalization_26 (Bat  (None, 3, 3, 256)        1024      \n",
            " chNormalization)                                                \n",
            "                                                                 \n",
            " activation_26 (Activation)  (None, 3, 3, 256)         0         \n",
            "                                                                 \n",
            " average_pooling2d (AverageP  (None, 1, 1, 256)        0         \n",
            " ooling2D)                                                       \n",
            "                                                                 \n",
            " flatten (Flatten)           (None, 256)               0         \n",
            "                                                                 \n",
            " dense (Dense)               (None, 3)                 771       \n",
            "                                                                 \n",
            "=================================================================\n",
            "Total params: 221,907\n",
            "Trainable params: 216,435\n",
            "Non-trainable params: 5,472\n",
            "_________________________________________________________________\n"
          ]
        }
      ],
      "source": [
        "model.summary()\n"
      ]
    },
    {
      "cell_type": "code",
      "execution_count": 20,
      "id": "4d7e2112-b2b8-4c10-9128-430241ae54c8",
      "metadata": {
        "id": "4d7e2112-b2b8-4c10-9128-430241ae54c8",
        "colab": {
          "base_uri": "https://localhost:8080/"
        },
        "outputId": "e8bf2605-db85-4f9b-ff68-182c8e718882"
      },
      "outputs": [
        {
          "output_type": "stream",
          "name": "stdout",
          "text": [
            "INFO:tensorflow:Assets written to: /tmp/tmpp63rc6k_/assets\n"
          ]
        },
        {
          "output_type": "stream",
          "name": "stderr",
          "text": [
            "WARNING:absl:Buffer deduplication procedure will be skipped when flatbuffer library is not properly loaded\n"
          ]
        },
        {
          "output_type": "stream",
          "name": "stdout",
          "text": [
            "INFO:tensorflow:Assets written to: /tmp/tmpvx_4vdtr/assets\n"
          ]
        },
        {
          "output_type": "stream",
          "name": "stderr",
          "text": [
            "INFO:tensorflow:Assets written to: /tmp/tmpvx_4vdtr/assets\n",
            "/usr/local/lib/python3.7/dist-packages/tensorflow/lite/python/convert.py:746: UserWarning: Statistics for quantized inputs were expected, but not specified; continuing anyway.\n",
            "  warnings.warn(\"Statistics for quantized inputs were expected, but not \"\n",
            "WARNING:absl:Buffer deduplication procedure will be skipped when flatbuffer library is not properly loaded\n"
          ]
        }
      ],
      "source": [
        "### From convert_vww.py\n",
        "\n",
        "# model = tf.keras.models.load_model(argv[1])\n",
        "converter = tf.lite.TFLiteConverter.from_keras_model(model)\n",
        "tflite_model = converter.convert()\n",
        "# with tf.io.gfile.GFile('vww_96_float.tflite', 'wb') as float_file:\n",
        "#   float_file.write(tflite_model)\n",
        "\n",
        "converter.optimizations = [tf.lite.Optimize.DEFAULT]\n",
        "def representative_dataset_gen():\n",
        "  dataset_dir = os.path.join(BASE_DIR, \"K\")\n",
        "  for idx, image_file in enumerate(os.listdir(dataset_dir)):\n",
        "    # 10 representative images should be enough for calibration.\n",
        "    if idx > 10:\n",
        "        return\n",
        "    full_path = os.path.join(dataset_dir, image_file)\n",
        "    if os.path.isfile(full_path):\n",
        "      img = tf.keras.preprocessing.image.load_img(\n",
        "          full_path, color_mode=color_mode).resize((96, 96))\n",
        "      arr = tf.keras.preprocessing.image.img_to_array(img)\n",
        "      # Scale input to [0, 1.0] like in training.\n",
        "      yield [arr.reshape(1, 96, 96, n_color_chans) / 255.] \n",
        "\n",
        "# Convert model to full-int8 and save as quantized tflite flatbuffer.\n",
        "converter.representative_dataset = representative_dataset_gen\n",
        "converter.target_spec.supported_ops = [tf.lite.OpsSet.TFLITE_BUILTINS_INT8]\n",
        "converter.inference_input_type = tf.int8\n",
        "converter.inference_output_type = tf.int8\n",
        "quantized_tflite_model = converter.convert()\n",
        "with tf.io.gfile.GFile('vww_96_int8.tflite', 'wb') as quantized_file:\n",
        "    quantized_file.write(quantized_tflite_model)\n",
        "\n",
        "\n"
      ]
    },
    {
      "cell_type": "code",
      "execution_count": 21,
      "id": "b638696d-debc-44da-a616-a107743c76fb",
      "metadata": {
        "id": "b638696d-debc-44da-a616-a107743c76fb",
        "colab": {
          "base_uri": "https://localhost:8080/"
        },
        "outputId": "8283eacb-afef-4c61-8f46-d15a048cb1bc"
      },
      "outputs": [
        {
          "output_type": "stream",
          "name": "stdout",
          "text": [
            "Found 1500 images belonging to 3 classes.\n"
          ]
        }
      ],
      "source": [
        "# rebuild the val-set generator with batch-size = 1\n",
        "val_generator = datagen.flow_from_directory(\n",
        "    BASE_DIR,\n",
        "    target_size=(IMAGE_SIZE, IMAGE_SIZE),\n",
        "    batch_size=1,\n",
        "    subset='validation',\n",
        "    color_mode='grayscale')"
      ]
    },
    {
      "cell_type": "code",
      "source": [
        "# number of MACs in each layer is (# outputs in layer) * (number of inputs that contribute to one output)\n",
        "macs = np.array([(14*38*20)*(3*3), (7*19*20)*(3*3), (7*19*32)*20, 128*128, 128*128, 4*128])\n",
        "print(macs)\n",
        "print(np.sum(macs))"
      ],
      "metadata": {
        "colab": {
          "base_uri": "https://localhost:8080/"
        },
        "id": "mrg5c4-Scdfg",
        "outputId": "4fa03df9-e148-4a30-fde5-6ca7105d41a8"
      },
      "id": "mrg5c4-Scdfg",
      "execution_count": 7,
      "outputs": [
        {
          "output_type": "stream",
          "name": "stdout",
          "text": [
            "[95760 23940 85120 16384 16384   512]\n",
            "238100\n"
          ]
        }
      ]
    },
    {
      "cell_type": "code",
      "source": [
        "import matplotlib.pyplot as plt\n",
        "import seaborn as sns"
      ],
      "metadata": {
        "id": "NxVVX8jMoIQp"
      },
      "id": "NxVVX8jMoIQp",
      "execution_count": 32,
      "outputs": []
    },
    {
      "cell_type": "code",
      "source": [
        "history_fine = model.fit"
      ],
      "metadata": {
        "id": "772zTUX9qgVP"
      },
      "id": "772zTUX9qgVP",
      "execution_count": 33,
      "outputs": []
    },
    {
      "cell_type": "code",
      "source": [
        "#Will fix later\n",
        "metrics = history_fine\n",
        "plt.subplot(2,1,1)\n",
        "plt.semilogy(history_fine.epoch, metrics['loss'], metrics['val_loss'])\n",
        "plt.legend(['training', 'validation'])\n",
        "plt.ylabel('Loss')\n",
        "plt.xlabel('Epoch')\n",
        "plt.subplot(2,1,2)\n",
        "plt.plot(history_fine.epoch, metrics['accuracy'], metrics['val_accuracy'])\n",
        "plt.legend(['training', 'validation'])\n",
        "plt.ylabel('Accuracy')\n",
        "plt.xlabel('Epoch')\n",
        "plt.show()"
      ],
      "metadata": {
        "colab": {
          "base_uri": "https://localhost:8080/",
          "height": 369
        },
        "id": "KPjtf4mpysNV",
        "outputId": "b0ab9c0e-7e85-43ea-d9ff-acc7644c3868"
      },
      "id": "KPjtf4mpysNV",
      "execution_count": 44,
      "outputs": [
        {
          "output_type": "error",
          "ename": "AttributeError",
          "evalue": "ignored",
          "traceback": [
            "\u001b[0;31m---------------------------------------------------------------------------\u001b[0m",
            "\u001b[0;31mAttributeError\u001b[0m                            Traceback (most recent call last)",
            "\u001b[0;32m<ipython-input-44-c6d95bb05654>\u001b[0m in \u001b[0;36m<module>\u001b[0;34m()\u001b[0m\n\u001b[1;32m      2\u001b[0m \u001b[0mmetrics\u001b[0m \u001b[0;34m=\u001b[0m \u001b[0mhistory_fine\u001b[0m\u001b[0;34m\u001b[0m\u001b[0;34m\u001b[0m\u001b[0m\n\u001b[1;32m      3\u001b[0m \u001b[0mplt\u001b[0m\u001b[0;34m.\u001b[0m\u001b[0msubplot\u001b[0m\u001b[0;34m(\u001b[0m\u001b[0;36m2\u001b[0m\u001b[0;34m,\u001b[0m\u001b[0;36m1\u001b[0m\u001b[0;34m,\u001b[0m\u001b[0;36m1\u001b[0m\u001b[0;34m)\u001b[0m\u001b[0;34m\u001b[0m\u001b[0;34m\u001b[0m\u001b[0m\n\u001b[0;32m----> 4\u001b[0;31m \u001b[0mplt\u001b[0m\u001b[0;34m.\u001b[0m\u001b[0msemilogy\u001b[0m\u001b[0;34m(\u001b[0m\u001b[0mhistory_fine\u001b[0m\u001b[0;34m.\u001b[0m\u001b[0mepoch_count\u001b[0m\u001b[0;34m,\u001b[0m \u001b[0mmetrics\u001b[0m\u001b[0;34m[\u001b[0m\u001b[0;34m'loss'\u001b[0m\u001b[0;34m]\u001b[0m\u001b[0;34m,\u001b[0m \u001b[0mmetrics\u001b[0m\u001b[0;34m[\u001b[0m\u001b[0;34m'val_loss'\u001b[0m\u001b[0;34m]\u001b[0m\u001b[0;34m)\u001b[0m\u001b[0;34m\u001b[0m\u001b[0;34m\u001b[0m\u001b[0m\n\u001b[0m\u001b[1;32m      5\u001b[0m \u001b[0mplt\u001b[0m\u001b[0;34m.\u001b[0m\u001b[0mlegend\u001b[0m\u001b[0;34m(\u001b[0m\u001b[0;34m[\u001b[0m\u001b[0;34m'training'\u001b[0m\u001b[0;34m,\u001b[0m \u001b[0;34m'validation'\u001b[0m\u001b[0;34m]\u001b[0m\u001b[0;34m)\u001b[0m\u001b[0;34m\u001b[0m\u001b[0;34m\u001b[0m\u001b[0m\n\u001b[1;32m      6\u001b[0m \u001b[0mplt\u001b[0m\u001b[0;34m.\u001b[0m\u001b[0mylabel\u001b[0m\u001b[0;34m(\u001b[0m\u001b[0;34m'Loss'\u001b[0m\u001b[0;34m)\u001b[0m\u001b[0;34m\u001b[0m\u001b[0;34m\u001b[0m\u001b[0m\n",
            "\u001b[0;31mAttributeError\u001b[0m: 'function' object has no attribute 'epoch_count'"
          ]
        },
        {
          "output_type": "display_data",
          "data": {
            "text/plain": [
              "<Figure size 432x288 with 1 Axes>"
            ],
            "image/png": "[encoded data removed]"
          },
          "metadata": {
            "needs_background": "light"
          }
        }
      ]
    },
    {
      "cell_type": "code",
      "execution_count": null,
      "id": "1c7fab9e-7ff8-4bf6-82ac-974c50db7998",
      "metadata": {
        "id": "1c7fab9e-7ff8-4bf6-82ac-974c50db7998"
      },
      "outputs": [],
      "source": [
        "b = val_generator.next()"
      ]
    },
    {
      "cell_type": "code",
      "execution_count": null,
      "id": "52c39249-1e5e-4a8d-8ef0-cde2fec59fc2",
      "metadata": {
        "id": "52c39249-1e5e-4a8d-8ef0-cde2fec59fc2",
        "colab": {
          "base_uri": "https://localhost:8080/"
        },
        "outputId": "2f2b2d1d-dee9-4381-bb82-c5cd143d97c1"
      },
      "outputs": [
        {
          "output_type": "execute_result",
          "data": {
            "text/plain": [
              "(1, 3)"
            ]
          },
          "metadata": {},
          "execution_count": 10
        }
      ],
      "source": [
        "b[1].shape"
      ]
    },
    {
      "cell_type": "code",
      "source": [
        "model_out = model.predict(train_generator)\n",
        "y_pred = np.argmax(model_out, axis=1)\n",
        "y_true = train_generator.labels"
      ],
      "metadata": {
        "id": "1vrEWZuVW1Pi"
      },
      "id": "1vrEWZuVW1Pi",
      "execution_count": null,
      "outputs": []
    },
    {
      "cell_type": "code",
      "source": [
        "import matplotlib.pyplot as plt\n",
        "import seaborn as sns\n",
        "confusion_mtx = tf.math.confusion_matrix(y_true, y_pred)\n",
        "sns.heatmap(confusion_mtx, xticklabels=['F', 'K', 'OtherLetters'], yticklabels=['F','K', 'OtherLetters'], annot=True, fmt='g')"
      ],
      "metadata": {
        "colab": {
          "base_uri": "https://localhost:8080/",
          "height": 282
        },
        "id": "MyV38LMaXX5c",
        "outputId": "f51875ac-6e69-48ee-e497-a429d0d6e6d5"
      },
      "id": "MyV38LMaXX5c",
      "execution_count": null,
      "outputs": [
        {
          "output_type": "execute_result",
          "data": {
            "text/plain": [
              "<matplotlib.axes._subplots.AxesSubplot at 0x7f2fc95af450>"
            ]
          },
          "metadata": {},
          "execution_count": 14
        },
        {
          "output_type": "display_data",
          "data": {
            "text/plain": [
              "<Figure size 432x288 with 2 Axes>"
            ],
            "image/png": "[encoded data removed]"
          },
          "metadata": {
            "needs_background": "light"
          }
        }
      ]
    },
    {
      "cell_type": "code",
      "source": [
        ""
      ],
      "metadata": {
        "id": "Jd4_ly7wXMm4"
      },
      "id": "Jd4_ly7wXMm4",
      "execution_count": null,
      "outputs": []
    },
    {
      "cell_type": "code",
      "execution_count": null,
      "id": "0fe36437-3c69-4057-bbb4-20eabf275b1b",
      "metadata": {
        "id": "0fe36437-3c69-4057-bbb4-20eabf275b1b",
        "colab": {
          "base_uri": "https://localhost:8080/",
          "height": 286
        },
        "outputId": "eb3b6e7a-d8b6-4e17-f47b-f022a7722dee"
      },
      "outputs": [
        {
          "output_type": "stream",
          "name": "stdout",
          "text": [
            "[[0. 1. 0.]]\n"
          ]
        },
        {
          "output_type": "display_data",
          "data": {
            "text/plain": [
              "<Figure size 432x288 with 1 Axes>"
            ],
            "image/png": "[encoded data removed]"
          },
          "metadata": {
            "needs_background": "light"
          }
        }
      ],
      "source": [
        "plt.imshow(-b[0][0,:,:,0], cmap='Greys')\n",
        "print(b[1])"
      ]
    },
    {
      "cell_type": "code",
      "execution_count": 23,
      "id": "43f11d37-8b98-490c-a678-db2a9ef029e2",
      "metadata": {
        "id": "43f11d37-8b98-490c-a678-db2a9ef029e2"
      },
      "outputs": [],
      "source": [
        "def evaluate_model(interpreter, datagen):\n",
        "  input_index = interpreter.get_input_details()[0][\"index\"]\n",
        "  output_index = interpreter.get_output_details()[0][\"index\"]\n",
        "\n",
        "  labels = labels.squeeze()\n",
        "  # Run predictions on every image in the \"test\" dataset.\n",
        "  prediction_digits = []\n",
        "  for i, test_image in enumerate(inputs):\n",
        "    if i % 1000 == 0:\n",
        "      print('Evaluated on {n} results so far.'.format(n=i))\n",
        "    # Pre-processing: add batch dimension and convert to float32 to match with\n",
        "    # the model's input data format.\n",
        "    test_image = np.expand_dims(test_image, axis=0).astype(np.float32)\n",
        "    interpreter.set_tensor(input_index, test_image)\n",
        "\n",
        "    # Run inference.\n",
        "    interpreter.invoke()\n",
        "\n",
        "    # Post-processing: remove batch dimension and find the digit with highest\n",
        "    # probability.\n",
        "    output = interpreter.tensor(output_index)\n",
        "    digit = np.argmax(output()[0])\n",
        "    prediction_digits.append(digit)\n",
        "\n",
        "  print('\\n')\n",
        "  # Compare prediction results with ground truth labels to calculate accuracy.\n",
        "  prediction_digits = np.array(prediction_digits)\n",
        "  accuracy = (prediction_digits == labels).mean()\n",
        "  return accuracy, prediction_digits"
      ]
    },
    {
      "cell_type": "code",
      "execution_count": null,
      "id": "fa64fa9d-a799-4696-a3a1-20a49413ad72",
      "metadata": {
        "id": "fa64fa9d-a799-4696-a3a1-20a49413ad72"
      },
      "outputs": [],
      "source": [
        ""
      ]
    }
  ],
  "metadata": {
    "kernelspec": {
      "display_name": "Python 3 (ipykernel)",
      "language": "python",
      "name": "python3"
    },
    "language_info": {
      "codemirror_mode": {
        "name": "ipython",
        "version": 3
      },
      "file_extension": ".py",
      "mimetype": "text/x-python",
      "name": "python",
      "nbconvert_exporter": "python",
      "pygments_lexer": "ipython3",
      "version": "3.8.12"
    },
    "colab": {
      "name": "Copy of person_detection.ipynb",
      "provenance": [],
      "collapsed_sections": [],
      "include_colab_link": true
    }
  },
  "nbformat": 4,
  "nbformat_minor": 5
}